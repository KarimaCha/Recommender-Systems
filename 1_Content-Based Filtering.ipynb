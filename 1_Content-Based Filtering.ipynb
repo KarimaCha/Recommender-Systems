{
 "cells": [
  {
   "cell_type": "markdown",
   "metadata": {},
   "source": [
    "# Part I: Content-Based Filtering\n",
    "---\n",
    "Code and data based on: https://heartbeat.fritz.ai/recommender-systems-with-python-part-i-content-based-filtering-5df4940bd831"
   ]
  },
  {
   "cell_type": "code",
   "execution_count": 1,
   "metadata": {},
   "outputs": [],
   "source": [
    "import pandas as pd\n",
    "from sklearn.feature_extraction.text import TfidfVectorizer\n",
    "from sklearn.metrics.pairwise import linear_kernel "
   ]
  },
  {
   "cell_type": "code",
   "execution_count": 2,
   "metadata": {},
   "outputs": [],
   "source": [
    "# source of sample data: \n",
    "# https://github.com/nikitaa30/Content-based-Recommender-System/blob/master/sample-data.csv\n",
    "\n",
    "ds = pd.read_csv(\"data/sample-data.csv\")"
   ]
  },
  {
   "cell_type": "code",
   "execution_count": 3,
   "metadata": {},
   "outputs": [
    {
     "data": {
      "text/html": [
       "<div>\n",
       "<style scoped>\n",
       "    .dataframe tbody tr th:only-of-type {\n",
       "        vertical-align: middle;\n",
       "    }\n",
       "\n",
       "    .dataframe tbody tr th {\n",
       "        vertical-align: top;\n",
       "    }\n",
       "\n",
       "    .dataframe thead th {\n",
       "        text-align: right;\n",
       "    }\n",
       "</style>\n",
       "<table border=\"1\" class=\"dataframe\">\n",
       "  <thead>\n",
       "    <tr style=\"text-align: right;\">\n",
       "      <th></th>\n",
       "      <th>id</th>\n",
       "      <th>description</th>\n",
       "    </tr>\n",
       "  </thead>\n",
       "  <tbody>\n",
       "    <tr>\n",
       "      <th>0</th>\n",
       "      <td>1</td>\n",
       "      <td>Active classic boxers - There's a reason why o...</td>\n",
       "    </tr>\n",
       "    <tr>\n",
       "      <th>1</th>\n",
       "      <td>2</td>\n",
       "      <td>Active sport boxer briefs - Skinning up Glory ...</td>\n",
       "    </tr>\n",
       "    <tr>\n",
       "      <th>2</th>\n",
       "      <td>3</td>\n",
       "      <td>Active sport briefs - These superbreathable no...</td>\n",
       "    </tr>\n",
       "    <tr>\n",
       "      <th>3</th>\n",
       "      <td>4</td>\n",
       "      <td>Alpine guide pants - Skin in, climb ice, switc...</td>\n",
       "    </tr>\n",
       "    <tr>\n",
       "      <th>4</th>\n",
       "      <td>5</td>\n",
       "      <td>Alpine wind jkt - On high ridges, steep ice an...</td>\n",
       "    </tr>\n",
       "  </tbody>\n",
       "</table>\n",
       "</div>"
      ],
      "text/plain": [
       "   id                                        description\n",
       "0   1  Active classic boxers - There's a reason why o...\n",
       "1   2  Active sport boxer briefs - Skinning up Glory ...\n",
       "2   3  Active sport briefs - These superbreathable no...\n",
       "3   4  Alpine guide pants - Skin in, climb ice, switc...\n",
       "4   5  Alpine wind jkt - On high ridges, steep ice an..."
      ]
     },
     "execution_count": 3,
     "metadata": {},
     "output_type": "execute_result"
    }
   ],
   "source": [
    "ds.head()"
   ]
  },
  {
   "cell_type": "code",
   "execution_count": 4,
   "metadata": {},
   "outputs": [
    {
     "data": {
      "text/html": [
       "<div>\n",
       "<style scoped>\n",
       "    .dataframe tbody tr th:only-of-type {\n",
       "        vertical-align: middle;\n",
       "    }\n",
       "\n",
       "    .dataframe tbody tr th {\n",
       "        vertical-align: top;\n",
       "    }\n",
       "\n",
       "    .dataframe thead th {\n",
       "        text-align: right;\n",
       "    }\n",
       "</style>\n",
       "<table border=\"1\" class=\"dataframe\">\n",
       "  <thead>\n",
       "    <tr style=\"text-align: right;\">\n",
       "      <th></th>\n",
       "      <th>id</th>\n",
       "      <th>description</th>\n",
       "    </tr>\n",
       "  </thead>\n",
       "  <tbody>\n",
       "    <tr>\n",
       "      <th>495</th>\n",
       "      <td>496</td>\n",
       "      <td>Cap 2 bottoms - Cut loose from the maddening c...</td>\n",
       "    </tr>\n",
       "    <tr>\n",
       "      <th>496</th>\n",
       "      <td>497</td>\n",
       "      <td>Cap 2 crew - This crew takes the edge off fick...</td>\n",
       "    </tr>\n",
       "    <tr>\n",
       "      <th>497</th>\n",
       "      <td>498</td>\n",
       "      <td>All-time shell - No need to use that morning T...</td>\n",
       "    </tr>\n",
       "    <tr>\n",
       "      <th>498</th>\n",
       "      <td>499</td>\n",
       "      <td>All-wear cargo shorts - All-Wear Cargo Shorts ...</td>\n",
       "    </tr>\n",
       "    <tr>\n",
       "      <th>499</th>\n",
       "      <td>500</td>\n",
       "      <td>All-wear shorts - Time to simplify? Our All-We...</td>\n",
       "    </tr>\n",
       "  </tbody>\n",
       "</table>\n",
       "</div>"
      ],
      "text/plain": [
       "      id                                        description\n",
       "495  496  Cap 2 bottoms - Cut loose from the maddening c...\n",
       "496  497  Cap 2 crew - This crew takes the edge off fick...\n",
       "497  498  All-time shell - No need to use that morning T...\n",
       "498  499  All-wear cargo shorts - All-Wear Cargo Shorts ...\n",
       "499  500  All-wear shorts - Time to simplify? Our All-We..."
      ]
     },
     "execution_count": 4,
     "metadata": {},
     "output_type": "execute_result"
    }
   ],
   "source": [
    "ds.tail()"
   ]
  },
  {
   "cell_type": "code",
   "execution_count": 10,
   "metadata": {},
   "outputs": [
    {
     "data": {
      "text/plain": [
       "'Active classic boxers - There\\'s a reason why our boxers are a cult favorite - they keep their cool, especially in sticky situations. The quick-drying, lightweight underwear takes up minimal space in a travel pack. An exposed, brushed waistband offers next-to-skin softness, five-panel construction with a traditional boxer back for a classic fit, and a functional fly. Made of 3.7-oz 100% recycled polyester with moisture-wicking performance. Inseam (size M) is 4 1/2\". Recyclable through the Common Threads Recycling Program.<br><br><b>Details:</b><ul> <li>\"Silky Capilene 1 fabric is ultralight, breathable and quick-to-dry\"</li> <li>\"Exposed, brushed elastic waistband for comfort\"</li> <li>5-panel construction with traditional boxer back</li> <li>\"Inseam (size M) is 4 1/2\"\"\"</li></ul><br><br><b>Fabric: </b>3.7-oz 100% all-recycled polyester with Gladiodor natural odor control for the garment. Recyclable through the Common Threads Recycling Program<br><br><b>Weight: </b>99 g (3.5 oz)<br><br>Made in Mexico.'"
      ]
     },
     "execution_count": 10,
     "metadata": {},
     "output_type": "execute_result"
    }
   ],
   "source": [
    "# see full description of first item\n",
    "ds.iloc[0,1]"
   ]
  },
  {
   "cell_type": "markdown",
   "metadata": {},
   "source": [
    "**See description in Markup:**\n",
    "\n",
    "Active classic boxers - There\\'s a reason why our boxers are a cult favorite - they keep their cool, especially in sticky situations. The quick-drying, lightweight underwear takes up minimal space in a travel pack. An exposed, brushed waistband offers next-to-skin softness, five-panel construction with a traditional boxer back for a classic fit, and a functional fly. Made of 3.7-oz 100% recycled polyester with moisture-wicking performance. Inseam (size M) is 4 1/2\". Recyclable through the Common Threads Recycling Program.<br><br><b>Details:</b><ul> <li>\"Silky Capilene 1 fabric is ultralight, breathable and quick-to-dry\"</li> <li>\"Exposed, brushed elastic waistband for comfort\"</li> <li>5-panel construction with traditional boxer back</li> <li>\"Inseam (size M) is 4 1/2\"\"\"</li></ul><br><br><b>Fabric: </b>3.7-oz 100% all-recycled polyester with Gladiodor natural odor control for the garment. Recyclable through the Common Threads Recycling Program<br><br><b>Weight: </b>99 g (3.5 oz)<br><br>Made in Mexico."
   ]
  },
  {
   "cell_type": "code",
   "execution_count": 12,
   "metadata": {},
   "outputs": [],
   "source": [
    "# calculate the TF-IDF score for each item description, word-by-word\n",
    "tf = TfidfVectorizer(analyzer='word', ngram_range=(1, 3), min_df=0, stop_words='english')\n",
    "tfidf_matrix = tf.fit_transform(ds['description'])"
   ]
  },
  {
   "cell_type": "code",
   "execution_count": 13,
   "metadata": {},
   "outputs": [
    {
     "name": "stdout",
     "output_type": "stream",
     "text": [
      "[[0. 0. 0. ... 0. 0. 0.]\n",
      " [0. 0. 0. ... 0. 0. 0.]\n",
      " [0. 0. 0. ... 0. 0. 0.]\n",
      " ...\n",
      " [0. 0. 0. ... 0. 0. 0.]\n",
      " [0. 0. 0. ... 0. 0. 0.]\n",
      " [0. 0. 0. ... 0. 0. 0.]]\n"
     ]
    },
    {
     "data": {
      "text/plain": [
       "((500, 52262), scipy.sparse.csr.csr_matrix)"
      ]
     },
     "execution_count": 13,
     "metadata": {},
     "output_type": "execute_result"
    }
   ],
   "source": [
    "# the tfidf_matrix contains each word and its TF-IDF score with regard to each item\n",
    "print(tfidf_matrix.toarray())\n",
    "tfidf_matrix.shape, type(tfidf_matrix)"
   ]
  },
  {
   "cell_type": "code",
   "execution_count": 14,
   "metadata": {},
   "outputs": [
    {
     "data": {
      "text/plain": [
       "(500, 500)"
      ]
     },
     "execution_count": 14,
     "metadata": {},
     "output_type": "execute_result"
    }
   ],
   "source": [
    "# calculate the cosine of the angle between each pair of item vectors (reflects similarity of item descriptions)\n",
    "cosine_similarities = linear_kernel(tfidf_matrix, tfidf_matrix)  # length-normalized vectors\n",
    "cosine_similarities.shape"
   ]
  },
  {
   "cell_type": "code",
   "execution_count": 15,
   "metadata": {},
   "outputs": [
    {
     "data": {
      "text/plain": [
       "array([[1.        , 0.10110642, 0.06487353, 0.05420526, 0.04566789],\n",
       "       [0.10110642, 1.        , 0.4181664 , 0.0545398 , 0.05834021],\n",
       "       [0.06487353, 0.4181664 , 1.        , 0.05003225, 0.06391289],\n",
       "       [0.05420526, 0.0545398 , 0.05003225, 1.        , 0.09967924],\n",
       "       [0.04566789, 0.05834021, 0.06391289, 0.09967924, 1.        ]])"
      ]
     },
     "execution_count": 15,
     "metadata": {},
     "output_type": "execute_result"
    }
   ],
   "source": [
    "cosine_similarities[:5,:5]"
   ]
  },
  {
   "cell_type": "code",
   "execution_count": 16,
   "metadata": {},
   "outputs": [],
   "source": [
    "# arrange items according to their similarity (each item with every other item) and store the values in results\n",
    "\n",
    "results = {}\n",
    "for idx, row in ds.iterrows():\n",
    "    similar_indices = cosine_similarities[idx].argsort()[:-100:-1]  # largest 99\n",
    "    similar_items = [(cosine_similarities[idx][i], ds['id'][i]) for i in similar_indices] \n",
    "    results[row['id']] = similar_items[1:]"
   ]
  },
  {
   "cell_type": "code",
   "execution_count": 17,
   "metadata": {},
   "outputs": [
    {
     "data": {
      "text/plain": [
       "[(0.22037921472617453, 19),\n",
       " (0.16938950913002357, 494),\n",
       " (0.16769458065321555, 18),\n",
       " (0.16485527745622977, 172),\n",
       " (0.148126154605864, 442),\n",
       " (0.14577863284367545, 171),\n",
       " (0.1413764236536125, 21),\n",
       " (0.13884463426216978, 495),\n",
       " (0.13879533331363048, 25),\n",
       " (0.13813550299091404, 496)]"
      ]
     },
     "execution_count": 17,
     "metadata": {},
     "output_type": "execute_result"
    }
   ],
   "source": [
    "results[1][:10]"
   ]
  },
  {
   "cell_type": "code",
   "execution_count": 20,
   "metadata": {},
   "outputs": [],
   "source": [
    "# Define function that just reads the results out of the dictionary\n",
    "\n",
    "def item(id):  \n",
    "    return ds.loc[ds['id'] == id]['description'].tolist()[0].split(' - ')[0]"
   ]
  },
  {
   "cell_type": "code",
   "execution_count": 21,
   "metadata": {},
   "outputs": [],
   "source": [
    "# Define function that makes recommendations based on similarity of item descriptions (i.e. cosine similarity)\n",
    "\n",
    "def recommend(item_id, num):\n",
    "    print(\"Recommending \" + str(num) + \" products similar to \" + item(item_id) + \"...\")   \n",
    "    print(\"-------\")    \n",
    "\n",
    "    recs = results[item_id][:num]   \n",
    "    for rec in recs: \n",
    "        print(\"Recommended: \" + item(rec[1]) + \" (score:\" +      str(rec[0]) + \")\")"
   ]
  },
  {
   "cell_type": "code",
   "execution_count": 23,
   "metadata": {},
   "outputs": [
    {
     "name": "stdout",
     "output_type": "stream",
     "text": [
      "Recommending 5 products similar to Active classic boxers...\n",
      "-------\n",
      "Recommended: Cap 1 boxer briefs (score:0.22037921472617453)\n",
      "Recommended: Active boxer briefs (score:0.16938950913002357)\n",
      "Recommended: Cap 1 bottoms (score:0.16769458065321555)\n",
      "Recommended: Cap 1 t-shirt (score:0.16485527745622977)\n",
      "Recommended: Cap 3 bottoms (score:0.148126154605864)\n"
     ]
    }
   ],
   "source": [
    "# Test recommender system with different inputs:\n",
    "recommend(1, 5)"
   ]
  },
  {
   "cell_type": "code",
   "execution_count": 24,
   "metadata": {},
   "outputs": [
    {
     "name": "stdout",
     "output_type": "stream",
     "text": [
      "Recommending 3 products similar to Baby sunshade top...\n",
      "-------\n",
      "Recommended: Sunshade hoody (score:0.2133029602108501)\n",
      "Recommended: Baby baggies apron dress (score:0.10975311296284813)\n",
      "Recommended: Runshade t-shirt (score:0.09988151262780706)\n"
     ]
    }
   ],
   "source": [
    "recommend(11, 3)"
   ]
  },
  {
   "cell_type": "code",
   "execution_count": 26,
   "metadata": {},
   "outputs": [
    {
     "name": "stdout",
     "output_type": "stream",
     "text": [
      "Recommending 10 products similar to Paddler board shorts...\n",
      "-------\n",
      "Recommended: Minimalist board shorts-19 in. (score:0.27192038148392816)\n",
      "Recommended: Wavefarer board shorts-21 in. (score:0.22439507803604378)\n",
      "Recommended: Twenty-three's board shorts (score:0.2177138862218524)\n",
      "Recommended: Light and variable surf trunks (score:0.20669606455013254)\n",
      "Recommended: Wavefarer board shorts (score:0.15452391398846163)\n",
      "Recommended: River shorts (score:0.15017991174958498)\n",
      "Recommended: Girl's boardie shorts (score:0.14094609172427439)\n",
      "Recommended: Marlwalker pants (score:0.1402591813373583)\n",
      "Recommended: Cotton board shorts (score:0.13331764205970884)\n",
      "Recommended: Meridian board shorts (score:0.12438319780671935)\n"
     ]
    }
   ],
   "source": [
    "recommend(100, 10)"
   ]
  }
 ],
 "metadata": {
  "kernelspec": {
   "display_name": "Python 3",
   "language": "python",
   "name": "python3"
  },
  "language_info": {
   "codemirror_mode": {
    "name": "ipython",
    "version": 3
   },
   "file_extension": ".py",
   "mimetype": "text/x-python",
   "name": "python",
   "nbconvert_exporter": "python",
   "pygments_lexer": "ipython3",
   "version": "3.7.1"
  }
 },
 "nbformat": 4,
 "nbformat_minor": 2
}
